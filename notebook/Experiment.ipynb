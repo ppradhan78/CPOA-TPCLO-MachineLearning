{
 "cells": [
  {
   "cell_type": "markdown",
   "id": "4ce496be-b405-4584-91cc-537545547bb8",
   "metadata": {},
   "source": [
    "<h1> json Configuration Manager </h1>"
   ]
  },
  {
   "cell_type": "code",
   "execution_count": 6,
   "id": "80173e35-629b-4ff3-8d6b-ebe2fdeba165",
   "metadata": {},
   "outputs": [],
   "source": [
    "import json\n",
    "\n",
    "class ConfigurationManager:\n",
    "    def __init__(self, config_file):\n",
    "        self.config_file = config_file\n",
    "        self.config_data = self._load_config()\n",
    "\n",
    "    def _load_config(self):\n",
    "        try:\n",
    "            with open(self.config_file, 'r') as file:\n",
    "                config = json.load(file)\n",
    "                return config\n",
    "        except FileNotFoundError:\n",
    "            print(f\"Configuration file {self.config_file} not found.\")\n",
    "            return {}\n",
    "        except json.JSONDecodeError:\n",
    "            print(f\"Error decoding JSON from {self.config_file}.\")\n",
    "            return {}\n",
    "\n",
    "    def get(self, key, default=None):\n",
    "        return self.config_data.get(key, default)\n"
   ]
  },
  {
   "cell_type": "code",
   "execution_count": 7,
   "id": "4adc8dcd-5c00-4b25-ac4b-cf3f5cc2ef69",
   "metadata": {},
   "outputs": [
    {
     "name": "stdout",
     "output_type": "stream",
     "text": [
      "sqlserver: Driver=SQL Server;Server=home\\SQLEXPRESS;Database=Northwind;Trusted_Connection=yes;\n",
      "mongodb: mongodb://localhost:27017/\n"
     ]
    }
   ],
   "source": [
    "config_manager = ConfigurationManager('..\\config\\config.json')\n",
    "#print(config_manager)\n",
    "sqlserver = config_manager.get('data_base_connection').get('sqlserver')\n",
    "mongodb = config_manager.get('data_base_connection').get('mongodb')\n",
    "print(f\"sqlserver: {sqlserver}\")\n",
    "print(f\"mongodb: {mongodb}\")\n"
   ]
  },
  {
   "cell_type": "markdown",
   "id": "770dede6-9e8c-4a5b-850d-2bd04e47f5c2",
   "metadata": {},
   "source": [
    "<h1> yaml Configuration Manager <\\h1>"
   ]
  },
  {
   "cell_type": "code",
   "execution_count": 9,
   "id": "b73b0354-3810-42aa-b14c-ead961fdf0c5",
   "metadata": {},
   "outputs": [],
   "source": [
    "import yaml\n",
    "\n",
    "class ConfigurationManager:\n",
    "    def __init__(self, config_file):\n",
    "        self.config_file = config_file\n",
    "        self.config_data = self._load_config()\n",
    "\n",
    "    def _load_config(self):\n",
    "        try:\n",
    "            with open(self.config_file, 'r') as file:\n",
    "                config = yaml.safe_load(file)\n",
    "                return config\n",
    "        except FileNotFoundError:\n",
    "            print(f\"Configuration file {self.config_file} not found.\")\n",
    "            return {}\n",
    "        except yaml.YAMLError:\n",
    "            print(f\"Error parsing YAML from {self.config_file}.\")\n",
    "            return {}\n",
    "\n",
    "    def get(self, key, default=None):\n",
    "        return self.config_data.get(key, default)"
   ]
  },
  {
   "cell_type": "code",
   "execution_count": 10,
   "id": "b9d383d5-95c6-4b50-b12c-5809e0c7d8ca",
   "metadata": {},
   "outputs": [
    {
     "name": "stdout",
     "output_type": "stream",
     "text": [
      "sqlserver: Driver=SQL Server;Server=home\\SQLEXPRESS;Database=Northwind;Trusted_Connection=yes;\n",
      "mongodb: mongodb://localhost:27017/\n"
     ]
    }
   ],
   "source": [
    "config_manager = ConfigurationManager('..\\config\\config.yaml')\n",
    "\n",
    "sqlserver = config_manager.get('data_base_connection').get('sqlserver')\n",
    "mongodb = config_manager.get('data_base_connection').get('mongodb')\n",
    "print(f\"sqlserver: {sqlserver}\")\n",
    "print(f\"mongodb: {mongodb}\")"
   ]
  },
  {
   "cell_type": "markdown",
   "id": "e8010991-9568-4d30-be3d-4db1616762d0",
   "metadata": {},
   "source": [
    "<h1> ini </h1>"
   ]
  },
  {
   "cell_type": "code",
   "execution_count": 11,
   "id": "01bf8356-16cb-4bbf-bcb9-204fbde21af2",
   "metadata": {},
   "outputs": [],
   "source": [
    "import configparser\n",
    "\n",
    "class ConfigurationManager:\n",
    "    def __init__(self, config_file):\n",
    "        self.config_file = config_file\n",
    "        self.config = configparser.ConfigParser()\n",
    "        self._load_config()\n",
    "\n",
    "    def _load_config(self):\n",
    "        try:\n",
    "            with open(self.config_file, 'r') as file:\n",
    "                self.config.read_file(file)\n",
    "        except FileNotFoundError:\n",
    "            print(f\"Configuration file {self.config_file} not found.\")\n",
    "        except configparser.Error as e:\n",
    "            print(f\"Error parsing INI file {self.config_file}: {e}\")\n",
    "\n",
    "    def get(self, section, key, fallback=None):\n",
    "        try:\n",
    "            return self.config.get(section, key, fallback=fallback)\n",
    "        except configparser.NoSectionError:\n",
    "            print(f\"Section [{section}] not found in the configuration file.\")\n",
    "            return fallback\n",
    "        except configparser.NoOptionError:\n",
    "            print(f\"Key '{key}' not found in section [{section}].\")\n",
    "            return fallback\n"
   ]
  },
  {
   "cell_type": "code",
   "execution_count": 12,
   "id": "0ba494e9-6805-4dd8-9ee6-d1e95f66af18",
   "metadata": {},
   "outputs": [
    {
     "name": "stdout",
     "output_type": "stream",
     "text": [
      "sqlserver: Driver=SQL Server;Server=home\\\\SQLEXPRESS;Database=Northwind;Trusted_Connection=yes;\n",
      "mongodb: mongodb://localhost:27017/\n"
     ]
    }
   ],
   "source": [
    "config_manager = ConfigurationManager('..\\config\\config.ini')\n",
    "\n",
    "sqlserver = config_manager.get('data_base_connection', 'sqlserver')\n",
    "mongodb = config_manager.get('data_base_connection', 'mongodb')\n",
    "\n",
    "\n",
    "print(f\"sqlserver: {sqlserver}\")\n",
    "print(f\"mongodb: {mongodb}\")"
   ]
  },
  {
   "cell_type": "code",
   "execution_count": null,
   "id": "42aa9b78-fabb-48a1-9ffd-4305d283961c",
   "metadata": {},
   "outputs": [],
   "source": []
  }
 ],
 "metadata": {
  "kernelspec": {
   "display_name": "Python 3 (ipykernel)",
   "language": "python",
   "name": "python3"
  },
  "language_info": {
   "codemirror_mode": {
    "name": "ipython",
    "version": 3
   },
   "file_extension": ".py",
   "mimetype": "text/x-python",
   "name": "python",
   "nbconvert_exporter": "python",
   "pygments_lexer": "ipython3",
   "version": "3.11.7"
  }
 },
 "nbformat": 4,
 "nbformat_minor": 5
}
